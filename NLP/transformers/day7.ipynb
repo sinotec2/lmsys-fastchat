{
 "cells": [
  {
   "cell_type": "code",
   "execution_count": 14,
   "id": "2eca207e",
   "metadata": {},
   "outputs": [],
   "source": [
    "from datasets import load_dataset\n",
    "url = \"https://mystic.the-eye.eu/public/AI/pile_preliminary_components/NIH_ExPORTER_awarded_grant_text.jsonl.zst\"\n",
    "url=\"https://the-eye.eu/public/AI/training_data/code_clippy_data/code_clippy_dup_data/train/data_0_time1625801885_default.jsonl.zst\"\n",
    "url='./data_0_time1625801885_default.jsonl'\n",
    "nih_dataset = load_dataset(\"json\", data_files=url, split= \"train\")"
   ]
  },
  {
   "cell_type": "code",
   "execution_count": 15,
   "id": "4a1d9ea7-2706-4f32-b914-045fb48c9c52",
   "metadata": {},
   "outputs": [
    {
     "name": "stdout",
     "output_type": "stream",
     "text": [
      "RAM used: 828.24 MB\n",
      "Number of files in dataset : 3784253266\n",
      "Dataset size (cache file) : 3.52 GB\n"
     ]
    }
   ],
   "source": [
    "import psutil\n",
    "\n",
    "print(f\"RAM used: {psutil.Process().memory_info().rss / (1024 * 1024):.2f} MB\")\n",
    "\n",
    "print(f\"Number of files in dataset : {nih_dataset.dataset_size}\")\n",
    "\n",
    "size_gb = nih_dataset.dataset_size / (1024**3)\n",
    "print(f\"Dataset size (cache file) : {size_gb:.2f} GB\")"
   ]
  },
  {
   "cell_type": "code",
   "execution_count": 17,
   "id": "44fe1633-d00b-464d-a468-cbf2e22a5e31",
   "metadata": {},
   "outputs": [
    {
     "name": "stdout",
     "output_type": "stream",
     "text": [
      "Iterated over 309148 examples (about 3.5 GB) in 4.6s, i.e. 0.770 GB/s\n"
     ]
    }
   ],
   "source": [
    "import timeit\n",
    "\n",
    "code_snippet = \"\"\"batch_size = 1000\n",
    "\n",
    "for idx in range(0, len(nih_dataset), batch_size):\n",
    "    _ = nih_dataset[idx:idx + batch_size]\n",
    "\"\"\"\n",
    "\n",
    "time = timeit.timeit(stmt=code_snippet, number=1, globals=globals())\n",
    "print(\n",
    "    f\"Iterated over {len(nih_dataset)} examples (about {size_gb:.1f} GB) in \"\n",
    "    f\"{time:.1f}s, i.e. {size_gb/time:.3f} GB/s\"\n",
    ")"
   ]
  },
  {
   "cell_type": "code",
   "execution_count": 18,
   "id": "7260ce23-8003-49dc-9e35-e9df2a2e247d",
   "metadata": {},
   "outputs": [],
   "source": [
    "nih_dataset_streamed = load_dataset(\n",
    "    \"json\", data_files=url, split=\"train\", streaming=True\n",
    ")"
   ]
  },
  {
   "cell_type": "code",
   "execution_count": 19,
   "id": "07df73f3-7688-40bc-9a53-1c4f5fb8facd",
   "metadata": {},
   "outputs": [
    {
     "data": {
      "text/plain": [
       "<datasets.iterable_dataset.IterableDataset at 0x14bcb769a850>"
      ]
     },
     "execution_count": 19,
     "metadata": {},
     "output_type": "execute_result"
    }
   ],
   "source": [
    "nih_dataset_streamed"
   ]
  },
  {
   "cell_type": "code",
   "execution_count": 20,
   "id": "e8fd1510-4ddf-4fd3-9ec7-05101c2eca70",
   "metadata": {},
   "outputs": [
    {
     "data": {
      "text/plain": [
       "{'text': '<?xml version=\"1.0\" encoding=\"UTF-8\"?>\\n<phpunit backupGlobals=\"false\"\\n         backupStaticAttributes=\"false\"\\n         bootstrap=\"vendor/autoload.php\"\\n         colors=\"true\"\\n         convertErrorsToExceptions=\"true\"\\n         convertNoticesToExceptions=\"true\"\\n         convertWarningsToExceptions=\"true\"\\n         processIsolation=\"false\"\\n         stopOnFailure=\"false\"\\n        >\\n    <testsuites>\\n        <testsuite name=\"Laravel Enum Test Suite\">\\n            <directory suffix=\"Test.php\">./tests/</directory>\\n        </testsuite>\\n    </testsuites>\\n    <php>\\n        <env name=\"DB_CONNECTION\" value=\"sqlite\"/>\\n        <env name=\"DB_DATABASE\" value=\":memory:\"/>\\n    </php>\\n</phpunit>\\n',\n",
       " 'meta': {'repo_name': 'BenSampo/laravel-enum',\n",
       "  'stars': '1047',\n",
       "  'repo_language': 'PHP',\n",
       "  'file_name': 'messages.php',\n",
       "  'mime_type': 'text/x-php'}}"
      ]
     },
     "execution_count": 20,
     "metadata": {},
     "output_type": "execute_result"
    }
   ],
   "source": [
    "next(iter(nih_dataset_streamed))"
   ]
  },
  {
   "cell_type": "code",
   "execution_count": 21,
   "id": "68269b5a-0529-41fa-b650-d6cc81cca8a8",
   "metadata": {},
   "outputs": [
    {
     "data": {
      "text/plain": [
       "{'text': '#include \"io.h\"\\n\\nint main(void)\\n{\\n    long long rt, rs, dsp;\\n    long long achi, acli;\\n    long long acho, aclo;\\n    long long resulth, resultl;\\n\\n    achi = 0x05;\\n    acli = 0xB4CB;\\n    rs  = 0x87898765432;\\n    rt  = 0x7878fdeca987;\\n    resulth = 0x05;\\n    resultl = 0x18278587;\\n\\n    __asm\\n        (\"mthi %2, $ac1\\\\n\\\\t\"\\n         \"mtlo %3, $ac1\\\\n\\\\t\"\\n         \"maq_s.l.pwr $ac1, %4, %5\\\\n\\\\t\"\\n         \"mfhi %0, $ac1\\\\n\\\\t\"\\n         \"mflo %1, $ac1\\\\n\\\\t\"\\n         : \"=r\"(acho), \"=r\"(aclo)\\n         : \"r\"(achi), \"r\"(acli), \"r\"(rs), \"r\"(rt)\\n        );\\n    if ((resulth != acho) || (resultl != aclo)) {\\n        printf(\"maq_s.w.pwr wrong\\\\n\");\\n\\n        return -1;\\n    }\\n\\n    achi = 0x05;\\n    acli = 0xB4CB;\\n    rs  = 0x89899980000000;\\n    rt  = 0x88780000000;\\n    resulth = 0x05;\\n    resultl = 0xb4ca;\\n\\n    __asm\\n        (\"mthi %3, $ac1\\\\n\\\\t\"\\n         \"mtlo %4, $ac1\\\\n\\\\t\"\\n         \"maq_s.l.pwr $ac1, %5, %6\\\\n\\\\t\"\\n         \"mfhi %0, $ac1\\\\n\\\\t\"\\n         \"mflo %1, $ac1\\\\n\\\\t\"\\n         \"rddsp %2\\\\n\\\\t\"\\n         : \"=r\"(acho), \"=r\"(aclo), \"=r\"(dsp)\\n         : \"r\"(achi), \"r\"(acli), \"r\"(rs), \"r\"(rt)\\n        );\\n    dsp = (dsp >> 17) & 0x1;\\n    if ((dsp != 0x1) || (resulth != acho) || (resultl != aclo)) {\\n        printf(\"maq_s.w.pwr wrong\\\\n\");\\n\\n        return -1;\\n    }\\n    return 0;\\n}\\n',\n",
       " 'meta': {'repo_name': 'compsec-snu/razzer',\n",
       "  'stars': '265',\n",
       "  'repo_language': 'C',\n",
       "  'file_name': 'fuzzer_freebsd.go',\n",
       "  'mime_type': 'text/plain'}}"
      ]
     },
     "execution_count": 21,
     "metadata": {},
     "output_type": "execute_result"
    }
   ],
   "source": [
    "shuffled_dataset = nih_dataset_streamed.shuffle(buffer_size=10_000, seed=5566)\n",
    "next(iter(shuffled_dataset))"
   ]
  },
  {
   "cell_type": "code",
   "execution_count": 22,
   "id": "6605e0b7-b678-4cfc-a682-bdea0bc08702",
   "metadata": {},
   "outputs": [
    {
     "name": "stdout",
     "output_type": "stream",
     "text": [
      "['O', 'n', 'l', 'y', ' ', 't', 'h', 'o', 's', 'e', ' ', 'w', 'h', 'o', ' ', 'w', 'i', 'l', 'l', ' ', 'r', 'i', 's', 'k', ' ', 'g', 'o', 'i', 'n', 'g', ' ', 't', 'o', 'o', ' ', 'f', 'a', 'r', ' ', 'c', 'a', 'n', ' ', 'p', 'o', 's', 's', 'i', 'b', 'l', 'y', ' ', 'f', 'i', 'n', 'd', ' ', 'o', 'u', 't', ' ', 'h', 'o', 'w', ' ', 'f', 'a', 'r', ' ', 'o', 'n', 'e', ' ', 'c', 'a', 'n', ' ', 'g', 'o', '.']\n"
     ]
    }
   ],
   "source": [
    "string = \"Only those who will risk going too far can possibly find out how far one can go.\"\n",
    "tokenized_str = list(string)\n",
    "print(tokenized_str)"
   ]
  },
  {
   "cell_type": "code",
   "execution_count": 23,
   "id": "32eac1dc-c0a4-4a65-9cbd-1f98c592b482",
   "metadata": {},
   "outputs": [
    {
     "name": "stdout",
     "output_type": "stream",
     "text": [
      "{' ': 0, '.': 1, 'O': 2, 'a': 3, 'b': 4, 'c': 5, 'd': 6, 'e': 7, 'f': 8, 'g': 9, 'h': 10, 'i': 11, 'k': 12, 'l': 13, 'n': 14, 'o': 15, 'p': 16, 'r': 17, 's': 18, 't': 19, 'u': 20, 'w': 21, 'y': 22}\n",
      "[2, 14, 13, 22, 0, 19, 10, 15, 18, 7, 0, 21, 10, 15, 0, 21, 11, 13, 13, 0, 17, 11, 18, 12, 0, 9, 15, 11, 14, 9, 0, 19, 15, 15, 0, 8, 3, 17, 0, 5, 3, 14, 0, 16, 15, 18, 18, 11, 4, 13, 22, 0, 8, 11, 14, 6, 0, 15, 20, 19, 0, 10, 15, 21, 0, 8, 3, 17, 0, 15, 14, 7, 0, 5, 3, 14, 0, 9, 15, 1]\n"
     ]
    }
   ],
   "source": [
    "token2idx = {ch: idx for idx, ch in enumerate(sorted(set(tokenized_str)))}\n",
    "print(token2idx)\n",
    "input_ids = [token2idx[token] for token in tokenized_str]\n",
    "print(input_ids)"
   ]
  },
  {
   "cell_type": "code",
   "execution_count": 24,
   "id": "896b6cb7-108b-423c-863b-60ad27f1bb01",
   "metadata": {},
   "outputs": [],
   "source": [
    "from transformers import AutoTokenizer\n",
    "\n",
    "string = \"Only those who will risk going too far can possibly find out how far one can go.\"\n",
    "\n",
    "model_name = \"distilbert-base-uncased-finetuned-sst-2-english\" #直接叫model名字\n",
    "tokenizer = AutoTokenizer.from_pretrained(model_name)"
   ]
  },
  {
   "cell_type": "code",
   "execution_count": 25,
   "id": "5c8f9a1c-763b-4134-8f3d-054697f106ec",
   "metadata": {},
   "outputs": [
    {
     "data": {
      "text/plain": [
       "{'input_ids': [101, 2069, 2216, 2040, 2097, 3891, 2183, 2205, 2521, 2064, 4298, 2424, 2041, 2129, 2521, 2028, 2064, 2175, 1012, 102], 'attention_mask': [1, 1, 1, 1, 1, 1, 1, 1, 1, 1, 1, 1, 1, 1, 1, 1, 1, 1, 1, 1]}"
      ]
     },
     "execution_count": 25,
     "metadata": {},
     "output_type": "execute_result"
    }
   ],
   "source": [
    "encoded_str = tokenizer(string, padding=True, truncation=True) \n",
    "encoded_str"
   ]
  },
  {
   "cell_type": "code",
   "execution_count": 26,
   "id": "fd12fea0-5df6-4b87-9c46-5a1262f2a82d",
   "metadata": {},
   "outputs": [
    {
     "data": {
      "text/plain": [
       "18"
      ]
     },
     "execution_count": 26,
     "metadata": {},
     "output_type": "execute_result"
    }
   ],
   "source": [
    "len(set(encoded_str['input_ids']))"
   ]
  },
  {
   "cell_type": "code",
   "execution_count": 27,
   "id": "96a7716b-f93f-4bbf-bf78-d2d5e031c5bd",
   "metadata": {},
   "outputs": [
    {
     "data": {
      "text/plain": [
       "17"
      ]
     },
     "execution_count": 27,
     "metadata": {},
     "output_type": "execute_result"
    }
   ],
   "source": [
    "len(string.split())"
   ]
  },
  {
   "cell_type": "code",
   "execution_count": 28,
   "id": "692e89e3-7aef-4e54-b058-86687f69a101",
   "metadata": {},
   "outputs": [
    {
     "data": {
      "text/plain": [
       "['[CLS]',\n",
       " 'only',\n",
       " 'those',\n",
       " 'who',\n",
       " 'will',\n",
       " 'risk',\n",
       " 'going',\n",
       " 'too',\n",
       " 'far',\n",
       " 'can',\n",
       " 'possibly',\n",
       " 'find',\n",
       " 'out',\n",
       " 'how',\n",
       " 'far',\n",
       " 'one',\n",
       " 'can',\n",
       " 'go',\n",
       " '.',\n",
       " '[SEP]']"
      ]
     },
     "execution_count": 28,
     "metadata": {},
     "output_type": "execute_result"
    }
   ],
   "source": [
    "tokens = tokenizer.convert_ids_to_tokens(encoded_str.input_ids)\n",
    "tokens"
   ]
  },
  {
   "cell_type": "code",
   "execution_count": 29,
   "id": "7068cf09-c51b-4d0f-ada4-7f3d53a99d0b",
   "metadata": {},
   "outputs": [
    {
     "name": "stdout",
     "output_type": "stream",
     "text": [
      "{'input_ids': [[101, 2007, 5122, 2630, 22681, 1012, 1999, 2122, 9379, 13178, 1011, 1011, 102], [101, 2009, 6223, 2061, 2146, 2004, 4212, 1996, 4542, 1010, 102, 0, 0], [101, 1998, 2008, 2003, 2339, 1010, 1996, 10459, 14045, 2154, 1010, 102, 0]], 'attention_mask': [[1, 1, 1, 1, 1, 1, 1, 1, 1, 1, 1, 1, 1], [1, 1, 1, 1, 1, 1, 1, 1, 1, 1, 1, 0, 0], [1, 1, 1, 1, 1, 1, 1, 1, 1, 1, 1, 1, 0]]}\n"
     ]
    }
   ],
   "source": [
    "from datasets import load_dataset\n",
    "sentiment = load_dataset(\"poem_sentiment\")\n",
    "def tokenize(batch):\n",
    "    return tokenizer(batch[\"verse_text\"], padding=True, truncation=True)\n",
    "print(tokenize(sentiment[\"train\"][:3]))    "
   ]
  },
  {
   "cell_type": "code",
   "execution_count": 30,
   "id": "5ff6a4a1-a65b-4b82-ba51-f29bfd8a3194",
   "metadata": {},
   "outputs": [
    {
     "data": {
      "application/vnd.jupyter.widget-view+json": {
       "model_id": "9647a2dd9d9d483f9d9872acae24893e",
       "version_major": 2,
       "version_minor": 0
      },
      "text/plain": [
       "Map:   0%|          | 0/892 [00:00<?, ? examples/s]"
      ]
     },
     "metadata": {},
     "output_type": "display_data"
    },
    {
     "data": {
      "application/vnd.jupyter.widget-view+json": {
       "model_id": "543f00103f924fbb8e61b429c8422743",
       "version_major": 2,
       "version_minor": 0
      },
      "text/plain": [
       "Map:   0%|          | 0/105 [00:00<?, ? examples/s]"
      ]
     },
     "metadata": {},
     "output_type": "display_data"
    },
    {
     "data": {
      "application/vnd.jupyter.widget-view+json": {
       "model_id": "33907795468f486a9b9928752b6bee13",
       "version_major": 2,
       "version_minor": 0
      },
      "text/plain": [
       "Map:   0%|          | 0/104 [00:00<?, ? examples/s]"
      ]
     },
     "metadata": {},
     "output_type": "display_data"
    },
    {
     "name": "stdout",
     "output_type": "stream",
     "text": [
      "['id', 'verse_text', 'label', 'input_ids', 'attention_mask']\n"
     ]
    }
   ],
   "source": [
    "sentiment_encoded = sentiment.map(tokenize, batched=True, batch_size=None)\n",
    "print(sentiment_encoded[\"train\"].column_names)"
   ]
  }
 ],
 "metadata": {
  "kernelspec": {
   "display_name": "Python 3 (ipykernel)",
   "language": "python",
   "name": "python3"
  },
  "language_info": {
   "codemirror_mode": {
    "name": "ipython",
    "version": 3
   },
   "file_extension": ".py",
   "mimetype": "text/x-python",
   "name": "python",
   "nbconvert_exporter": "python",
   "pygments_lexer": "ipython3",
   "version": "3.9.16"
  }
 },
 "nbformat": 4,
 "nbformat_minor": 5
}
